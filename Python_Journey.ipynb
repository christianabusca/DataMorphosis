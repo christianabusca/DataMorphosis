{
  "nbformat": 4,
  "nbformat_minor": 0,
  "metadata": {
    "colab": {
      "provenance": [],
      "authorship_tag": "ABX9TyPG6GugIwfA4GPX/F1BI9mb",
      "include_colab_link": true
    },
    "kernelspec": {
      "name": "python3",
      "display_name": "Python 3"
    },
    "language_info": {
      "name": "python"
    }
  },
  "cells": [
    {
      "cell_type": "markdown",
      "metadata": {
        "id": "view-in-github",
        "colab_type": "text"
      },
      "source": [
        "<a href=\"https://colab.research.google.com/github/christianabusca/daanaprojekta/blob/main/Python_Journey.ipynb\" target=\"_parent\"><img src=\"https://colab.research.google.com/assets/colab-badge.svg\" alt=\"Open In Colab\"/></a>"
      ]
    },
    {
      "cell_type": "markdown",
      "source": [
        "\n",
        "\n",
        "```\n",
        "# WORKING WITH STRINGS\n",
        "```\n",
        "\n"
      ],
      "metadata": {
        "id": "5X1AK18DxLBH"
      }
    },
    {
      "cell_type": "code",
      "execution_count": null,
      "metadata": {
        "colab": {
          "base_uri": "https://localhost:8080/",
          "height": 35
        },
        "id": "1uVPUTjUt1lh",
        "outputId": "09658953-7e67-4030-da3d-d66bf46dce3d"
      },
      "outputs": [
        {
          "output_type": "execute_result",
          "data": {
            "text/plain": [
              "'Siya Drey S. Abusca'"
            ],
            "application/vnd.google.colaboratory.intrinsic+json": {
              "type": "string"
            }
          },
          "metadata": {},
          "execution_count": 1
        }
      ],
      "source": [
        "# WORKING WITH STRINGS IN PYTHON\n",
        "# STRINGS\n",
        "\n",
        "# STRINGS CAN BE USED IN SINGLE OR DOUBLE QUOTES\n",
        "# METHOD - FUNCTION THAT IS AVAILABLE IN PARTICULAR DATATYPE\n",
        "# EXAMPLE variable.method()\n",
        "\n",
        "# USING STRING REPLACE METHOD\n",
        "\n",
        "ako = \"Christian Drey S. Abusca\"\n",
        "ako = ako.replace(\"Christian\", \"Siya\")\n",
        "ako\n"
      ]
    },
    {
      "cell_type": "code",
      "source": [
        "# USING STRING METHOD TO MAKE A TEXT IN UPPER OR LOWERCASE\n",
        "aso = \"Boomiee\"\n",
        "aso = aso.lower()\n",
        "\n",
        "pusa = \"Cathy\"\n",
        "pusa = pusa.upper()\n",
        "aso, pusa"
      ],
      "metadata": {
        "colab": {
          "base_uri": "https://localhost:8080/"
        },
        "id": "9tX2h9S7vy6W",
        "outputId": "f35aeb4d-3877-4fbe-9656-7332599b3ca6"
      },
      "execution_count": null,
      "outputs": [
        {
          "output_type": "execute_result",
          "data": {
            "text/plain": [
              "('boomiee', 'CATHY')"
            ]
          },
          "metadata": {},
          "execution_count": 3
        }
      ]
    },
    {
      "cell_type": "code",
      "source": [
        "#MULTI-LINE STRINGS\n",
        "\n",
        "# using triple double quotes can be used in having a multi-line string\n",
        "# for example:\n",
        "\n",
        "ako = \"\"\"Metro Manila, comprised of 16 cities,\n",
        "is a prime example of rapid\n",
        "urbanization because of its tall\n",
        "buildings and busy neighbourhoods. \"\"\"\n",
        "\n",
        "ako"
      ],
      "metadata": {
        "colab": {
          "base_uri": "https://localhost:8080/",
          "height": 53
        },
        "id": "ErbLLSr3wlxB",
        "outputId": "c9a1864c-af30-4d53-bfdd-00cf0ec53e0b"
      },
      "execution_count": null,
      "outputs": [
        {
          "output_type": "execute_result",
          "data": {
            "text/plain": [
              "'Metro Manila, comprised of 16 cities, \\nis a prime example of rapid \\nurbanization because of its tall \\nbuildings and busy neighbourhoods. '"
            ],
            "application/vnd.google.colaboratory.intrinsic+json": {
              "type": "string"
            }
          },
          "metadata": {},
          "execution_count": 4
        }
      ]
    },
    {
      "cell_type": "markdown",
      "source": [
        "LIST"
      ],
      "metadata": {
        "id": "wqUfFtUcyCaU"
      }
    },
    {
      "cell_type": "code",
      "source": [
        "#LISTS = STORE MULTIPLE VALUES IN A DATATYPE IN A SINGLE VARIABLE\n",
        "\n",
        "prices = [10, 20, 30, 40, 50, 60]\n",
        "type(prices)\n",
        "\n",
        "# list are ordered\n",
        "# to subsetting = list[index]\n",
        "prices[4]\n",
        "\n",
        "# finding the last element in a list\n",
        "prices[-1]\n",
        "\n",
        "# ACCESSING MULTIPLE ELEMENTS\n",
        "# list[starting_element:last_element + 1]\n",
        "prices[1:3]\n",
        "\n",
        "# ACCESSING MULTIPLE ELEMENTS\n",
        "prices[3:] # this will access the fourth index onwards\n",
        "prices[:3] # starting to the fourth index\n",
        "\n",
        "#ALTERNATINC ACCESS\n",
        "prices[::2] #THIS HAS THE INTERVAL OF 2\n",
        "prices[1::3] #ACCESS EVERY THIRD ELEMENT IN A LIST, STARTING AT THE SECOND INDEX\n"
      ],
      "metadata": {
        "colab": {
          "base_uri": "https://localhost:8080/"
        },
        "id": "uZiC2X1dx_8K",
        "outputId": "e264437c-433a-46b2-f2da-fe8e2e304e73"
      },
      "execution_count": null,
      "outputs": [
        {
          "output_type": "execute_result",
          "data": {
            "text/plain": [
              "[10, 30, 50]"
            ]
          },
          "metadata": {},
          "execution_count": 10
        }
      ]
    },
    {
      "cell_type": "markdown",
      "source": [
        "DICTIONARIES"
      ],
      "metadata": {
        "id": "egr8cTh-0V1o"
      }
    },
    {
      "cell_type": "code",
      "source": [
        "# DICTIONARIES\n",
        "prices = [10, 20, 30, 40, 50, 60]\n",
        "product_ids = [\"AG32\", \"HT91\", \"PL65\", \"OS31\", \"KB07\", \"TR48\"]\n",
        "\n",
        "# dictionary = data structure of key-value pairs\n",
        "# USEFUL SINCE KEY AND VALUES ARE ASSOCIATED\n",
        "\n",
        "product_dict = {\"AG32\": 10,\n",
        "                \"HT91\": 20,\n",
        "                \"PL65\": 30,\n",
        "                \"OS31\": 40,\n",
        "                \"KB07\": 50,\n",
        "                \"TR48\": 60}\n",
        "product_dict\n",
        "\n",
        "# finding a specific value of a product\n",
        "product_dict[\"AG32\"]\n",
        "\n",
        "# finding all values\n",
        "product_dict.values()\n",
        "\n",
        "# finding all keys\n",
        "product_dict.keys()\n",
        "\n",
        "# finding all items\n",
        "product_dict.items()\n",
        "\n",
        "# VALUES IN PARETHESIS ARE KNOWN AS TUPLE\n",
        "\n",
        "# UPDATE A DICTIONARY\n",
        "product_dict[\"AG32\"] = 100\n",
        "product_dict"
      ],
      "metadata": {
        "colab": {
          "base_uri": "https://localhost:8080/"
        },
        "id": "U-j3WYBC0Xi4",
        "outputId": "b6ed1cfa-eb3f-40e8-d671-dd49ec567936"
      },
      "execution_count": null,
      "outputs": [
        {
          "output_type": "execute_result",
          "data": {
            "text/plain": [
              "dict_keys(['AG32', 'HT91', 'PL65', 'OS31', 'KB07', 'TR48'])"
            ]
          },
          "metadata": {},
          "execution_count": 15
        }
      ]
    },
    {
      "cell_type": "code",
      "source": [
        "# SETS\n",
        "# DATA STRUCTURE THAT stores unique information\n",
        "# 1 INSTANCE OF A SET\n",
        "\n",
        "# CAN ADD OR REMOVE VALUES BUT CANNOT CHANGE THEM\n",
        "\n",
        "# SET = {}\n",
        "# if it has : = Dictionary\n",
        "# No : = Set\n",
        "\n",
        "my_set = {\"apple\", \"banana\", \"cherry\", \"mango\", \"malunggay\", \"apple\", \"mango\"}\n",
        "my_set\n",
        "\n",
        "# CASTING - When converting a LIST into a SET\n",
        "my_list = [\"apple\", \"banana\", \"cherry\", \"mango\", \"malunggay\", \"apple\", \"mango\"]\n",
        "my_set2 = set(my_list) # THIS IS A SAMPLE OF CASTING\n",
        "type(my_set2)\n",
        "my_set2\n",
        "\n",
        "# SETS DON'T HAVE AN INDEX\n",
        "# SETS ARE UNORDERED\n",
        "\n"
      ],
      "metadata": {
        "id": "A71ifdS54-Ug",
        "colab": {
          "base_uri": "https://localhost:8080/"
        },
        "outputId": "3cd3856e-71d3-4f9b-8490-25e9a34533a2"
      },
      "execution_count": null,
      "outputs": [
        {
          "output_type": "execute_result",
          "data": {
            "text/plain": [
              "['apple', 'banana', 'cherry', 'malunggay', 'mango']"
            ]
          },
          "metadata": {},
          "execution_count": 4
        }
      ]
    },
    {
      "cell_type": "code",
      "source": [
        "# WHEN USING sorted() IT RETURNS THE SET INTO ALPHABETICAL ORDER\n",
        "my_set2 = sorted(my_set2)\n",
        "my_set2"
      ],
      "metadata": {
        "colab": {
          "base_uri": "https://localhost:8080/"
        },
        "id": "hnhhmDMC9QxY",
        "outputId": "0aeba317-0e60-44e4-c958-15df2e209a9b"
      },
      "execution_count": null,
      "outputs": [
        {
          "output_type": "execute_result",
          "data": {
            "text/plain": [
              "['apple', 'banana', 'cherry', 'malunggay', 'mango']"
            ]
          },
          "metadata": {},
          "execution_count": 5
        }
      ]
    },
    {
      "cell_type": "code",
      "source": [
        "# TUPLE\n",
        "# IMMUTABLE - CANNOT BE  CHANGED, CAN'T ADD,REMOVE OR CHANGE THE VALUE IN TUPLES\n",
        "# TUPLES ARE ORDERED, WE CAN SUBSET BY INDEX\n",
        "cities = (\"Makati\", \"Taguig\", \"Quezon\", \"Muntinlupa\", \"Manila\")\n",
        "cities\n"
      ],
      "metadata": {
        "id": "AIs-_ZGC9Wh3"
      },
      "execution_count": null,
      "outputs": []
    },
    {
      "cell_type": "code",
      "source": [
        "# WE CAN USE A FUNCTION TO CONVERT A LIST INTO A TUPLE\n",
        "my_list = [\"apple\", \"banana\", \"cherry\", \"mango\", \"malunggay\", \"apple\", \"mango\"]\n",
        "my_list_tuple = tuple(my_list)\n",
        "my_list_tuple"
      ],
      "metadata": {
        "colab": {
          "base_uri": "https://localhost:8080/"
        },
        "id": "FCbvlrbZ9xXo",
        "outputId": "14b53b13-f680-484b-91d7-421eee369258"
      },
      "execution_count": null,
      "outputs": [
        {
          "output_type": "execute_result",
          "data": {
            "text/plain": [
              "('apple', 'banana', 'cherry', 'mango', 'malunggay', 'apple', 'mango')"
            ]
          },
          "metadata": {},
          "execution_count": 6
        }
      ]
    },
    {
      "cell_type": "code",
      "source": [
        "# WE CAN ACCESS AN ELEMENT BY SEARCHING FOR AN INDEX\n",
        "my_list_tuple[3]"
      ],
      "metadata": {
        "colab": {
          "base_uri": "https://localhost:8080/",
          "height": 35
        },
        "id": "9qvtn5gP969z",
        "outputId": "e151a33f-6377-4067-e04d-34d72c379768"
      },
      "execution_count": null,
      "outputs": [
        {
          "output_type": "execute_result",
          "data": {
            "text/plain": [
              "'mango'"
            ],
            "application/vnd.google.colaboratory.intrinsic+json": {
              "type": "string"
            }
          },
          "metadata": {},
          "execution_count": 7
        }
      ]
    },
    {
      "cell_type": "markdown",
      "source": [
        "CONDITIONAL STATEMENTS AND OPERATORS"
      ],
      "metadata": {
        "id": "mBaK6w-q-pTH"
      }
    },
    {
      "cell_type": "code",
      "source": [
        "# CONDINTIONAL STATEMENTS AND OPERATORS\n",
        "\n",
        "truth = True\n",
        "print(truth)\n",
        "\n",
        "# COMPARISON OPERATORS - COMBINATIONS OF SYMBOLS TO COMPARE THINGS\n",
        "\n",
        "# == - TO CHECK THINGS IF THEY ARE EQUAL\n",
        "# EXAMPLE\n",
        "2 == 3 # FALSE\n",
        "\n",
        "# != - TO CHECK THINGS FOR INEQUALITY\n",
        "# EXAMPLE\n",
        "2 != 3 # TRUE\n",
        "\n",
        "5 < 7\n",
        "5 <= 7\n",
        "5 > 7\n",
        "5 >= 7\n",
        "\n",
        "# OTHER COMPARISONS\n",
        "\"James\" > \"Brian\"\n",
        "\n",
        "# conditional statements\n",
        "# If True perform a task, otherwise, do nothing\n",
        "\n",
        "sales_target = 350\n",
        "units_sold = 355\n",
        "\n",
        "if units_sold >= sales_target:\n",
        "  print(\"You've achieved your sales target!\")\n",
        "elif units_sold >= 320:\n",
        "  print(\"Target almost achieved\")\n",
        "else:\n",
        "  print(\"You didn't achieve your sales target\")\n",
        "\n"
      ],
      "metadata": {
        "id": "llKLS8mb_4jQ"
      },
      "execution_count": null,
      "outputs": []
    },
    {
      "cell_type": "code",
      "source": [
        "# FOR LOOPS\n",
        "\n",
        "# PRICES LIST\n",
        "prices = [9.99, 8.99, 35.25, 1.50, 5.75]\n",
        "prices[0] > 10\n",
        "\n",
        "# for value in sequence:\n",
        "#   action\n",
        "\n",
        "for price in prices:\n",
        "  if price > 10:\n",
        "    print(\"More than $10\")\n",
        "\n",
        "  elif price < 5:\n",
        "    print(\"Less than $5\")\n",
        "\n",
        "  else:\n",
        "    print(price)"
      ],
      "metadata": {
        "id": "xVCgLBlS-HR7"
      },
      "execution_count": null,
      "outputs": []
    },
    {
      "cell_type": "code",
      "source": [
        "# LOOPING IN STRINGS\n",
        "username = \"george_dc\"\n",
        "\n",
        "for char in username:\n",
        "  print(char)"
      ],
      "metadata": {
        "id": "x4bc1vzd-5tq"
      },
      "execution_count": null,
      "outputs": []
    },
    {
      "cell_type": "code",
      "source": [
        "product_dict = {\"AG32\": 87.99,\n",
        "                \"HT91\": 21.50,\n",
        "                \"PL65\": 43.75,\n",
        "                \"OS31\": 19.99,\n",
        "                \"KB07\": 62.95,\n",
        "                \"TR48\": 98.0}\n",
        "# USING FOR LOOPS IN KEYS AND VALUES\n",
        "\n",
        "for key, val in product_dict.items():\n",
        "  print(key, val) # FOR KEYS AND VALUES\n",
        "\n",
        "for key in product_dict.keys():\n",
        "  print(key) # FOR KEYS\n",
        "\n",
        "for val in product_dict.values():\n",
        "  print(val) # FOR VALUES\n",
        "\n"
      ],
      "metadata": {
        "colab": {
          "base_uri": "https://localhost:8080/"
        },
        "id": "7Ru-J31y_JPX",
        "outputId": "be4c900f-3653-4eb2-a0c2-1471fcfb7434"
      },
      "execution_count": null,
      "outputs": [
        {
          "output_type": "stream",
          "name": "stdout",
          "text": [
            "AG32 87.99\n",
            "HT91 21.5\n",
            "PL65 43.75\n",
            "OS31 19.99\n",
            "KB07 62.95\n",
            "TR48 98.0\n"
          ]
        }
      ]
    },
    {
      "cell_type": "code",
      "source": [
        "# BUILT IN FUNCTION\n",
        "# RANGE\n",
        "# range(start, end + 1)\n",
        "# start = inclusive\n",
        "# end = not inclusive\n",
        "\n",
        "# EXAMPLE\n",
        "\n",
        "for i in range(1,6):\n",
        "  print(i)\n",
        "\n",
        "visits = 0\n",
        "\n",
        "for i in range(1,11):\n",
        "  visits += 1 # SAME AS VISITS = VISITS + 1\n",
        "\n",
        "print(visits)"
      ],
      "metadata": {
        "colab": {
          "base_uri": "https://localhost:8080/"
        },
        "id": "akMCZJgL_yEn",
        "outputId": "f4347ef9-3a56-44d2-f17f-38692159ed7c"
      },
      "execution_count": null,
      "outputs": [
        {
          "output_type": "stream",
          "name": "stdout",
          "text": [
            "1\n",
            "2\n",
            "3\n",
            "4\n",
            "5\n",
            "10\n"
          ]
        }
      ]
    },
    {
      "cell_type": "code",
      "source": [
        "user_ids = [\"T42YG4KTK\", \"VTQ39IDQ0\", \"CRL11YUWX\",\n",
        "            \"K6Y5URXLR\", \"V4XCBER7V\", \"IOGQWC61K\"]\n",
        "\n",
        "# Loop through user_ids\n",
        "for user_id in user_ids:\n",
        "  # Print the user_id\n",
        "  print(user_id)"
      ],
      "metadata": {
        "id": "CfIJElEBBUIA"
      },
      "execution_count": null,
      "outputs": []
    },
    {
      "cell_type": "code",
      "source": [
        "# Create the tickets_sold variable\n",
        "tickets_sold = 0\n",
        "\n",
        "# Create the max_capacity variable\n",
        "max_capacity = 30\n",
        "\n",
        "# Loop through a range up to and including max_capacity's value\n",
        "for i in range(1, max_capacity + 1):\n",
        "  # Add one to tickets_sold in each iteration\n",
        "  tickets_sold += 1\n",
        "\n",
        "print(\"Sold out:\", tickets_sold, \"tickets sold!\")"
      ],
      "metadata": {
        "colab": {
          "base_uri": "https://localhost:8080/"
        },
        "id": "jApuaEf_BP_a",
        "outputId": "b4663c03-e435-40d9-8f02-4eacf3a03555"
      },
      "execution_count": null,
      "outputs": [
        {
          "output_type": "stream",
          "name": "stdout",
          "text": [
            "Sold out: 30 tickets sold!\n"
          ]
        }
      ]
    },
    {
      "cell_type": "code",
      "source": [
        "courses = {\"LLM Concepts\": \"AI\",\n",
        "           \"Introduction to Data Pipelines\": \"Data Engineering\",\n",
        "           \"AI Ethics\": \"AI\",\n",
        "           \"Introduction to dbt\": \"Data Engineering\",\n",
        "           \"Writing Efficient Python Code\": \"Programming\",\n",
        "           \"Introduction to Docker\": \"Programming\"}\n",
        "\n",
        "# Loop through the dictionary's keys and values\n",
        "for key, value in courses.items():\n",
        "\n",
        "  # Check if the value is \"AI\"\n",
        "  if value == \"AI\":\n",
        "    print(key, \"is an AI course\")\n",
        "\n",
        "  # Check if the value is \"Programming\"\n",
        "  elif value == \"Programming\":\n",
        "    print(key, \"is a Programming course\")\n",
        "\n",
        "  # Otherwise, print that it is a \"Data Engineering\" course\n",
        "  else:\n",
        "    print(key, \"is a Data Engineering course\")"
      ],
      "metadata": {
        "colab": {
          "base_uri": "https://localhost:8080/"
        },
        "id": "BwqrFa9jCDHi",
        "outputId": "b6967a93-18cc-471e-817e-e57962e61329"
      },
      "execution_count": null,
      "outputs": [
        {
          "output_type": "stream",
          "name": "stdout",
          "text": [
            "LLM Concepts is an AI course\n",
            "Introduction to Data Pipelines is a Data Engineering course\n",
            "AI Ethics is an AI course\n",
            "Introduction to dbt is a Data Engineering course\n",
            "Writing Efficient Python Code is a Programming course\n",
            "Introduction to Docker is a Programming course\n"
          ]
        }
      ]
    },
    {
      "cell_type": "code",
      "source": [
        "# WHILE LOOPS\n",
        "# SYNTAX OF WHILE LOOP\n",
        "\n",
        "# while condition:\n",
        "#   action\n",
        "\n",
        "# USEFUL FOR CONTINOUS TASK\n",
        "# ACCELERATE WHILE A BUTTON IS PRESSED\n",
        "\n",
        "stock = 10\n",
        "\n",
        "num_purchases = 0\n",
        "\n",
        "# WHILE num_purchases < stock limit\n",
        "while num_purchases < stock:\n",
        "  # INCREMENT num_purchases\n",
        "  num_purchases +=1\n",
        "  # PRINT REMAINING STOCK\n",
        "  print(\"Remaining stock:\", stock - num_purchases)\n",
        "\n",
        "# WE COULD use the \"break\" if we want to while loop to do it once\n"
      ],
      "metadata": {
        "id": "GOtnTTqPC2gu",
        "colab": {
          "base_uri": "https://localhost:8080/"
        },
        "outputId": "7542243b-8c47-4263-dc62-daebf6b31f45"
      },
      "execution_count": 1,
      "outputs": [
        {
          "output_type": "stream",
          "name": "stdout",
          "text": [
            "Remaining stock: 9\n",
            "Remaining stock: 8\n",
            "Remaining stock: 7\n",
            "Remaining stock: 6\n",
            "Remaining stock: 5\n",
            "Remaining stock: 4\n",
            "Remaining stock: 3\n",
            "Remaining stock: 2\n",
            "Remaining stock: 1\n",
            "Remaining stock: 0\n"
          ]
        }
      ]
    },
    {
      "cell_type": "code",
      "source": [
        "stock = 10\n",
        "\n",
        "num_purchases = 0\n",
        "\n",
        "# WHILE num_purchases < stock limit\n",
        "while num_purchases < stock:\n",
        "  # INCREMENT num_purchases\n",
        "  num_purchases +=1\n",
        "  # PRINT REMAINING STOCK\n",
        "  if stock - num_purchases > 7:\n",
        "    print(\"Plenty of stock remaining\")\n",
        "  elif stock - num_purchases > 3:\n",
        "    print(\"Some stock remaining\")\n",
        "  else:\n",
        "    print(\"Low stock remaining\")\n"
      ],
      "metadata": {
        "colab": {
          "base_uri": "https://localhost:8080/"
        },
        "id": "IabEcwzCiCmj",
        "outputId": "bf9b45fb-9dc2-42af-fa5f-5c5cfeba6e06"
      },
      "execution_count": 3,
      "outputs": [
        {
          "output_type": "stream",
          "name": "stdout",
          "text": [
            "Plenty of stock remaining\n",
            "Plenty of stock remaining\n",
            "Some stock remaining\n",
            "Some stock remaining\n",
            "Some stock remaining\n",
            "Some stock remaining\n",
            "Low stock remaining\n",
            "Low stock remaining\n",
            "Low stock remaining\n",
            "Low stock remaining\n"
          ]
        }
      ]
    },
    {
      "cell_type": "code",
      "source": [
        "# BUILDING A WORKFLOW\n",
        "# COMPLEX WORKFLOWS\n",
        "\n",
        "# THE \"in\" KEYWORD\n",
        "# in = check if a value is in a variable/data structure\n",
        "product_dict = {\"AG32\": 10,\n",
        "                \"HT91\": 20,\n",
        "                \"PL65\": 30,\n",
        "                \"OS31\": 40,\n",
        "                \"KB07\": 50,\n",
        "                \"TR48\": 60}\n",
        "product_dict\n",
        "\n",
        "if \"OS31\" in product_dict.keys():\n",
        "  print(\"True\")\n",
        "else:\n",
        "  print(\"False\")\n",
        "\n",
        "# THE \"not\" KEYWORD\n",
        "# not = check if a condition is not met\n",
        "# EXAMPLE:\n",
        "\n",
        "if \"OS31\" not in product_dict.keys():\n",
        "  print(\"True\")\n",
        "else:\n",
        "  print(\"False\")\n",
        "\n",
        "# THE \"and\" KEYWORD\n",
        "# and = check if multiple conditions are met\n",
        "\n",
        "if \"HT91\" in product_dict.keys() and min(product_dict.values()) > 5:\n",
        "  print(\"True\")\n",
        "else:\n",
        "  print(\"False\")\n",
        "\n",
        "# THE \"or\" KEYWORD\n",
        "# or = check if one (or more) condition is met\n",
        "if \"HT91\" in product_dict.keys() or min(product_dict.values()) > 10:\n",
        "  print(\"True\")\n",
        "else:\n",
        "  print(\"False\")\n"
      ],
      "metadata": {
        "colab": {
          "base_uri": "https://localhost:8080/"
        },
        "id": "lBM8yF_WjCwj",
        "outputId": "6b583bd0-8753-453a-db93-08f89544b7c6"
      },
      "execution_count": 8,
      "outputs": [
        {
          "output_type": "stream",
          "name": "stdout",
          "text": [
            "True\n",
            "False\n",
            "True\n",
            "True\n"
          ]
        }
      ]
    },
    {
      "cell_type": "code",
      "source": [
        "# ADDING/SUBTRACTING from variables\n",
        "# combine keywords wih other techniques to build complex workflows\n",
        "\n",
        "sales_count = 0\n",
        "for sale in range (1, 10):\n",
        "  sales_count += 1\n",
        "  print(\"Total sales:\", sales_count)\n",
        "\n",
        "stock = 10\n",
        "for sale in range (1, 10):\n",
        "  stock -= 1\n",
        "  print(\"Remaining stock:\", stock)"
      ],
      "metadata": {
        "colab": {
          "base_uri": "https://localhost:8080/"
        },
        "id": "wO3gIhRok8UL",
        "outputId": "1788b91e-a5cc-40c3-cb37-b0d0341e8a90"
      },
      "execution_count": 9,
      "outputs": [
        {
          "output_type": "stream",
          "name": "stdout",
          "text": [
            "Total sales: 1\n",
            "Total sales: 2\n",
            "Total sales: 3\n",
            "Total sales: 4\n",
            "Total sales: 5\n",
            "Total sales: 6\n",
            "Total sales: 7\n",
            "Total sales: 8\n",
            "Total sales: 9\n"
          ]
        }
      ]
    },
    {
      "cell_type": "code",
      "source": [
        "# APPENDING\n",
        "# STORE INFORMATION THAT MEETS SPECIFIC CRITERIA IN A LIST\n",
        "\n",
        "expensive_products = []\n",
        "\n",
        "for key, val in product_dict.items():\n",
        "  # CHECK IF PRICE IS 20 OR MORE\n",
        "  if val >= 20:\n",
        "    # APPEND THE product ID to the list\n",
        "    expensive_products.append(key)\n",
        "\n",
        "expensive_products"
      ],
      "metadata": {
        "colab": {
          "base_uri": "https://localhost:8080/"
        },
        "id": "IVQ_wRG9lSOL",
        "outputId": "5d12b83a-afe3-48af-ef83-2a8304bc946a"
      },
      "execution_count": 11,
      "outputs": [
        {
          "output_type": "execute_result",
          "data": {
            "text/plain": [
              "['HT91', 'PL65', 'OS31', 'KB07', 'TR48']"
            ]
          },
          "metadata": {},
          "execution_count": 11
        }
      ]
    }
  ]
}